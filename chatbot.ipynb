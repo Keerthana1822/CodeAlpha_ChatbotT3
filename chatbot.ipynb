{
 "cells": [
  {
   "cell_type": "code",
   "execution_count": null,
   "id": "b18986c9-4b1a-425f-9568-9f26ec5f1069",
   "metadata": {},
   "outputs": [
    {
     "name": "stderr",
     "output_type": "stream",
     "text": [
      "[nltk_data] Downloading package punkt to\n",
      "[nltk_data]     C:\\Users\\KEERTHANA\\AppData\\Roaming\\nltk_data...\n",
      "[nltk_data]   Package punkt is already up-to-date!\n"
     ]
    },
    {
     "name": "stdout",
     "output_type": "stream",
     "text": [
      "Chatbot: Hello! I'm here to assist you. Type 'bye' to exit.\n"
     ]
    }
   ],
   "source": [
    "import nltk\n",
    "from nltk.chat.util import Chat, reflections\n",
    "\n",
    "# Define patterns and responses for the chatbot\n",
    "pairs = [\n",
    "    [\n",
    "        r\"hi|hello|hey\",\n",
    "        [\"Hello! How can I help you today?\", \"Hi there! What can I do for you?\"]\n",
    "    ],\n",
    "    [\n",
    "        r\"what is your name?\",\n",
    "        [\"I am a chatbot created for this task. What's your name?\"]\n",
    "    ],\n",
    "    [\n",
    "        r\"my name is (.*)\",\n",
    "        [\"Nice to meet you, %1! How can I assist you?\"]\n",
    "    ],\n",
    "    [\n",
    "        r\"how are you?\",\n",
    "        [\"I'm just a program, but I'm functioning perfectly! How about you?\"]\n",
    "    ],\n",
    "    [\n",
    "        r\"what can you do?\",\n",
    "        [\"I can chat with you, answer simple questions, and assist with basic tasks. What would you like to know?\"]\n",
    "    ],\n",
    "    [\n",
    "        r\"bye|exit|quit\",\n",
    "        [\"Goodbye! Have a great day.\", \"See you later! Take care.\"]\n",
    "    ]\n",
    "]\n",
    "\n",
    "# Initialize the chatbot with the defined patterns\n",
    "chatbot = Chat(pairs, reflections)\n",
    "\n",
    "def main():\n",
    "    print(\"Chatbot: Hello! I'm here to assist you. Type 'bye' to exit.\")\n",
    "    while True:\n",
    "        user_input = input(\"You: \").lower()\n",
    "        if user_input in ['bye', 'exit', 'quit']:\n",
    "            print(\"Chatbot: Goodbye!\")\n",
    "            break\n",
    "        else:\n",
    "            response = chatbot.respond(user_input)\n",
    "            if response:\n",
    "                print(\"Chatbot:\", response)\n",
    "            else:\n",
    "                print(\"Chatbot: I'm sorry, I didn't understand that. Could you rephrase?\")\n",
    "\n",
    "if __name__ == \"__main__\":\n",
    "    nltk.download('punkt')  # Ensure required NLTK data is downloaded\n",
    "    main()"
   ]
  },
  {
   "cell_type": "code",
   "execution_count": null,
   "id": "ca2ce293-3ea7-42a1-9b81-082307da6cec",
   "metadata": {},
   "outputs": [],
   "source": []
  }
 ],
 "metadata": {
  "kernelspec": {
   "display_name": "Python 3 (ipykernel)",
   "language": "python",
   "name": "python3"
  },
  "language_info": {
   "codemirror_mode": {
    "name": "ipython",
    "version": 3
   },
   "file_extension": ".py",
   "mimetype": "text/x-python",
   "name": "python",
   "nbconvert_exporter": "python",
   "pygments_lexer": "ipython3",
   "version": "3.12.7"
  }
 },
 "nbformat": 4,
 "nbformat_minor": 5
}
